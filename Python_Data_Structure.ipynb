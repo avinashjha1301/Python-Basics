{
  "nbformat": 4,
  "nbformat_minor": 0,
  "metadata": {
    "colab": {
      "provenance": []
    },
    "kernelspec": {
      "name": "python3",
      "display_name": "Python 3"
    },
    "language_info": {
      "name": "python"
    }
  },
  "cells": [
    {
      "cell_type": "markdown",
      "source": [
        "1. What are data structures, and why are they important?\n",
        "\n",
        "Data structures are ways of organizing and storing data so it can be used efficiently. They are important because they help in efficient data access, manipulation, and storage, which improves the performance of programs and algorithms."
      ],
      "metadata": {
        "id": "C8iioP2CoED8"
      }
    },
    {
      "cell_type": "markdown",
      "source": [
        "2.  Explain the difference between mutable and immutable data types with examples?\n",
        "\n",
        "Mutable data types can be changed after creation. Example: list, dict, set\n",
        "Immutable data types cannot be changed after creation.Example: int, float, str, tuple"
      ],
      "metadata": {
        "id": "_n3vr73NoOvK"
      }
    },
    {
      "cell_type": "markdown",
      "source": [
        "3. What are the main differences between lists and tuples in Python?\n",
        "\n",
        "Lists → Mutable (can be changed), use [], slower, more memory.\n",
        "\n",
        "Tuples → Immutable (cannot be changed), use (), faster, less memory, can be used as dictionary keys."
      ],
      "metadata": {
        "id": "S6WqGEKBoiZU"
      }
    },
    {
      "cell_type": "markdown",
      "source": [
        "4. Describe how dictionaries store data?\n",
        "\n",
        "Dictionaries in Python store data as key–value pairs. Each key is unique and immutable, and it maps to a value. Internally, Python uses a hash table to make lookups, insertions, and deletions very fast."
      ],
      "metadata": {
        "id": "lupueBD7oqyD"
      }
    },
    {
      "cell_type": "markdown",
      "source": [
        "5. Why might you use a set instead of a list in Python?\n",
        "\n",
        "You might use a set instead of a list when you need to store unique elements and perform fast operations like membership testing, union, intersection, or difference."
      ],
      "metadata": {
        "id": "CcBbAdS_o20L"
      }
    },
    {
      "cell_type": "markdown",
      "source": [
        "6. What is a string in Python, and how is it different from a list?\n",
        "\n",
        "A string in Python is a sequence of characters, while a list is a sequence of elements (of any data type). Strings are immutable (cannot be changed), but lists are mutable (can be modified)."
      ],
      "metadata": {
        "id": "E4E6euxVo-Bj"
      }
    },
    {
      "cell_type": "markdown",
      "source": [
        "7. How do tuples ensure data integrity in Python?\n",
        "\n",
        "Tuples ensure data integrity by being immutable, meaning their elements cannot be changed, added, or removed after creation. This prevents accidental modifications and keeps the data fixed and reliable."
      ],
      "metadata": {
        "id": "SN-Zg3-PpM3L"
      }
    },
    {
      "cell_type": "markdown",
      "source": [
        "8. What is a hash table, and how does it relate to dictionaries in Python?\n",
        "\n",
        "A hash table is a data structure that stores data in key–value pairs using a hash function for fast access. In Python, dictionaries are implemented using hash tables, which makes lookups, insertions, and deletions very efficient."
      ],
      "metadata": {
        "id": "VmHpH2j9pTMT"
      }
    },
    {
      "cell_type": "markdown",
      "source": [
        "9.  Can lists contain different data types in Python?\n",
        "\n",
        "Yes, lists in Python can contain different data types (e.g., integers, strings, floats, or even other lists) within the same list."
      ],
      "metadata": {
        "id": "LOg3StM3pcPs"
      }
    },
    {
      "cell_type": "markdown",
      "source": [
        "10.  Explain why strings are immutable in Python?\n",
        "\n",
        "Strings are immutable in Python to ensure data consistency, security, and performance optimizations like memory sharing and caching. This means once created, a string’s content cannot be changed."
      ],
      "metadata": {
        "id": "upN1tRcrpkhb"
      }
    },
    {
      "cell_type": "markdown",
      "source": [
        "11. What advantages do dictionaries offer over lists for certain tasks?\n",
        "\n",
        "Dictionaries offer faster lookups, updates, and deletions using keys, and allow data to be stored in key–value pairs. This makes them more efficient than lists for tasks involving searching or mapping relationships."
      ],
      "metadata": {
        "id": "OUUGHDbRp4Nq"
      }
    },
    {
      "cell_type": "markdown",
      "source": [
        "12.  Describe a scenario where using a tuple would be preferable over a list?\n",
        "\n",
        "A tuple is preferable when you need to store fixed, unchangeable data (e.g., geographic coordinates (latitude, longitude) or configuration constants) to ensure the values cannot be modified."
      ],
      "metadata": {
        "id": "OhmKCMnmqAWj"
      }
    },
    {
      "cell_type": "markdown",
      "source": [
        "13.  How do sets handle duplicate values in Python?\n",
        "\n",
        "Sets in Python automatically remove duplicate values, so only unique elements are stored."
      ],
      "metadata": {
        "id": "_VvrGlWQqNsT"
      }
    },
    {
      "cell_type": "markdown",
      "source": [
        "14. How does the “in” keyword work differently for lists and dictionaries?\n",
        "\n",
        "In a list, in checks if a value exists in the list.\n",
        "\n",
        "In a dictionary, in checks if a key exists (not the value)."
      ],
      "metadata": {
        "id": "-r9Ar0xlqUjl"
      }
    },
    {
      "cell_type": "markdown",
      "source": [
        "15.  Can you modify the elements of a tuple? Explain why or why not?\n",
        "\n",
        "No, you cannot modify the elements of a tuple because tuples are immutable in Python, meaning their contents are fixed once created."
      ],
      "metadata": {
        "id": "_lhzDUwaqcWr"
      }
    },
    {
      "cell_type": "markdown",
      "source": [
        "16. What is a nested dictionary, and give an example of its use case?\n",
        "\n",
        "A nested dictionary is a dictionary that contains another dictionary as a value."
      ],
      "metadata": {
        "id": "pJKBlhugqnCM"
      }
    },
    {
      "cell_type": "markdown",
      "source": [
        "17.  Describe the time complexity of accessing elements in a dictionary?\n",
        "\n",
        "Accessing elements in a dictionary has an average time complexity of O(1) because it uses a hash table, though in rare worst-case scenarios it can be O(n)."
      ],
      "metadata": {
        "id": "yZqaoq6HqvV7"
      }
    },
    {
      "cell_type": "markdown",
      "source": [
        "18. In what situations are lists preferred over dictionaries?\n",
        "\n",
        "Lists are preferred over dictionaries when order matters, when you need indexed access by position, or when storing a simple sequence of items without key-value pairs."
      ],
      "metadata": {
        "id": "lRoUmOANq4rc"
      }
    },
    {
      "cell_type": "markdown",
      "source": [
        "19. Why are dictionaries considered unordered, and how does that affect data retrieval?\n",
        "\n",
        "Dictionaries are considered unordered because they store data using hashing, not sequence order. This means you retrieve values by keys, not by position or index."
      ],
      "metadata": {
        "id": "7MXA6PaHrfcJ"
      }
    },
    {
      "cell_type": "markdown",
      "source": [
        "20. Explain the difference between a list and a dictionary in terms of data retrieval?\n",
        "\n",
        "In a list, data is retrieved using an index (position), while in a dictionary, data is retrieved using a key."
      ],
      "metadata": {
        "id": "goDMvxoFrpIl"
      }
    },
    {
      "cell_type": "code",
      "execution_count": null,
      "metadata": {
        "id": "7r9DO9KfnvEd"
      },
      "outputs": [],
      "source": [
        "# Write a code to create a string with your name and print it?\n",
        "name = \"Avinash\"\n",
        "print(\"My name is:\", name)"
      ]
    },
    {
      "cell_type": "code",
      "source": [
        "# Write a code to find the length of the string \"Hello World\"?\n",
        "text = \"Hello World\"\n",
        "length = len(text)\n",
        "print(\"Length of the string is:\", length)"
      ],
      "metadata": {
        "id": "PJyj1jC3sZo8"
      },
      "execution_count": null,
      "outputs": []
    },
    {
      "cell_type": "code",
      "source": [
        "# Write a code to slice the first 3 characters from the string \"Python Programming\"?\n",
        "\n",
        "text = \"Python Programming\"\n",
        "first_three = text[:3]\n",
        "print(\"First 3 characters:\", first_three)"
      ],
      "metadata": {
        "id": "LGRi9awnsjl5"
      },
      "execution_count": null,
      "outputs": []
    },
    {
      "cell_type": "code",
      "source": [
        "# Write a code to convert the string \"hello\" to uppercase\n",
        "text = \"hello\"\n",
        "uppercase_text = text.upper()\n",
        "print(\"Uppercase string:\", uppercase_text)"
      ],
      "metadata": {
        "id": "wE7KaVp_stsG"
      },
      "execution_count": null,
      "outputs": []
    },
    {
      "cell_type": "code",
      "source": [
        "# Write a code to replace the word \"apple\" with \"orange\" in the string \"I like apple\"?\n",
        "\n",
        "text = \"I like apple\"\n",
        "new_text = text.replace(\"apple\", \"orange\")\n",
        "print(\"Updated string:\", new_text)"
      ],
      "metadata": {
        "id": "fqsWyD7ls18v"
      },
      "execution_count": null,
      "outputs": []
    },
    {
      "cell_type": "code",
      "source": [
        "# Write a code to create a list with numbers 1 to 5 and print it\n",
        "\n",
        "numbers = [1, 2, 3, 4, 5]\n",
        "print(\"List of numbers:\", numbers)"
      ],
      "metadata": {
        "id": "wOnMvSNMtAAr"
      },
      "execution_count": null,
      "outputs": []
    },
    {
      "cell_type": "code",
      "source": [
        "# Write a code to append the number 10 to the list [1, 2, 3, 4]\n",
        "\n",
        "numbers = [1, 2, 3, 4]\n",
        "numbers.append(10)\n",
        "print(\"Updated list:\", numbers)"
      ],
      "metadata": {
        "id": "3Mtg62yXtHY7"
      },
      "execution_count": null,
      "outputs": []
    },
    {
      "cell_type": "code",
      "source": [
        "# Write a code to remove the number 3 from the list [1, 2, 3, 4, 5]\n",
        "numbers = [1, 2, 3, 4, 5]\n",
        "numbers.remove(3)\n",
        "print(\"Updated list:\", numbers)"
      ],
      "metadata": {
        "id": "J90JmxzdtQSR"
      },
      "execution_count": null,
      "outputs": []
    },
    {
      "cell_type": "code",
      "source": [
        "# Write a code to access the second element in the list ['a', 'b', 'c', 'd']\n",
        "letters = ['a', 'b', 'c', 'd']\n",
        "second_element = letters[1]\n",
        "print(\"Second element:\", second_element)"
      ],
      "metadata": {
        "id": "aji0kLlYtZq1"
      },
      "execution_count": null,
      "outputs": []
    },
    {
      "cell_type": "code",
      "source": [
        "# Write a code to reverse the list [10, 20, 30, 40, 50]\n",
        "numbers = [10, 20, 30, 40, 50]\n",
        "numbers.reverse()\n",
        "print(\"Reversed list:\", numbers)"
      ],
      "metadata": {
        "id": "xd4FUYIBtk59"
      },
      "execution_count": null,
      "outputs": []
    },
    {
      "cell_type": "code",
      "source": [
        "# Write a code to create a tuple with the elements 100, 200, 300 and print it\n",
        "numbers_tuple = (100, 200, 300)\n",
        "print(\"Tuple:\", numbers_tuple)"
      ],
      "metadata": {
        "id": "nbTj4-9Wt2FC"
      },
      "execution_count": null,
      "outputs": []
    },
    {
      "cell_type": "code",
      "source": [
        "# Write a code to access the second-to-last element of the tuple ('red', 'green', 'blue', 'yellow')\n",
        "colors = ('red', 'green', 'blue', 'yellow')\n",
        "second_last = colors[-2]\n",
        "print(\"Second-to-last element:\", second_last)"
      ],
      "metadata": {
        "id": "AqsxkUpOuCLT"
      },
      "execution_count": null,
      "outputs": []
    },
    {
      "cell_type": "code",
      "source": [
        "# Write a code to find the minimum number in the tuple (10, 20, 5, 15)\n",
        "numbers = (10, 20, 5, 15)\n",
        "minimum = min(numbers)\n",
        "print(\"Minimum number:\", minimum)"
      ],
      "metadata": {
        "id": "eNB7dnosuHr0"
      },
      "execution_count": null,
      "outputs": []
    },
    {
      "cell_type": "code",
      "source": [
        "# Write a code to find the index of the element \"cat\" in the tuple ('dog', 'cat', 'rabbit')\n",
        "animals = ('dog', 'cat', 'rabbit')\n",
        "index = animals.index('cat')\n",
        "print(\"Index of 'cat':\", index)"
      ],
      "metadata": {
        "id": "DFFGuozOuUHS"
      },
      "execution_count": null,
      "outputs": []
    },
    {
      "cell_type": "code",
      "source": [
        "# Write a code to create a tuple containing three different fruits and check if \"kiwi\" is in it\n",
        "fruits = (\"apple\", \"banana\", \"mango\")\n",
        "if \"kiwi\" in fruits:\n",
        "    print(\"Kiwi is in the tuple\")\n",
        "else:\n",
        "    print(\"Kiwi is NOT in the tuple\")"
      ],
      "metadata": {
        "id": "v47lFSIYuY7Z"
      },
      "execution_count": null,
      "outputs": []
    },
    {
      "cell_type": "code",
      "source": [
        "# Write a code to create a set with the elements 'a', 'b', 'c' and print it\n",
        "letters_set = {'a', 'b', 'c'}\n",
        "print(\"Set:\", letters_set)"
      ],
      "metadata": {
        "id": "fY1BGO6Quf6B"
      },
      "execution_count": null,
      "outputs": []
    },
    {
      "cell_type": "code",
      "source": [
        "# Write a code to clear all elements from the set {1, 2, 3, 4, 5}\n",
        "numbers_set = {1, 2, 3, 4, 5}\n",
        "numbers_set.clear()\n",
        "print(\"Cleared set:\", numbers_set)"
      ],
      "metadata": {
        "id": "nteL_exWuz08"
      },
      "execution_count": null,
      "outputs": []
    },
    {
      "cell_type": "code",
      "source": [
        "# Write a code to remove the element 4 from the set {1, 2, 3, 4}\n",
        "numbers_set = {1, 2, 3, 4}\n",
        "numbers_set.remove(4)\n",
        "print(\"Updated set:\", numbers_set)"
      ],
      "metadata": {
        "id": "3P3uchCuu7CU"
      },
      "execution_count": null,
      "outputs": []
    },
    {
      "cell_type": "code",
      "source": [
        "# Write a code to find the union of two sets {1, 2, 3} and {3, 4, 5}\n",
        "set1 = {1, 2, 3}\n",
        "set2 = {3, 4, 5}\n",
        "union_set = set1.union(set2)\n",
        "print(\"Union of the sets:\", union_set)"
      ],
      "metadata": {
        "id": "7WjEzFrDvFKB"
      },
      "execution_count": null,
      "outputs": []
    },
    {
      "cell_type": "code",
      "source": [
        "# Write a code to find the intersection of two sets {1, 2, 3} and {2, 3, 4}\n",
        "set1 = {1, 2, 3}\n",
        "set2 = {2, 3, 4}\n",
        "intersection_set = set1.intersection(set2)\n",
        "print(\"Intersection of the sets:\", intersection_set)"
      ],
      "metadata": {
        "id": "tj34OdygvNop"
      },
      "execution_count": null,
      "outputs": []
    },
    {
      "cell_type": "code",
      "source": [
        "# Write a code to create a dictionary with the keys \"name\", \"age\", and \"city\", and print it\n",
        "person = {\n",
        "    \"name\": \"Avinash\",\n",
        "    \"age\": 25,\n",
        "    \"city\": \"Mumbai\"\n",
        "}\n",
        "print(\"Dictionary:\", person)"
      ],
      "metadata": {
        "id": "M8nNZeTpvVmu"
      },
      "execution_count": null,
      "outputs": []
    },
    {
      "cell_type": "code",
      "source": [
        "#  Write a code to add a new key-value pair \"country\": \"USA\" to the dictionary {'name': 'John', 'age': 25}\n",
        "person = {'name': 'John', 'age': 25}\n",
        "person['country'] = 'USA'\n",
        "print(\"Updated dictionary:\", person)"
      ],
      "metadata": {
        "id": "MDbXG_bMvdqE"
      },
      "execution_count": null,
      "outputs": []
    },
    {
      "cell_type": "code",
      "source": [
        "# Write a code to access the value associated with the key \"name\" in the dictionary {'name': 'Alice', 'age': 30}\n",
        "person = {'name': 'Alice', 'age': 30}\n",
        "name_value = person['name']\n",
        "print(\"Value of 'name':\", name_value)"
      ],
      "metadata": {
        "id": "cblW62O4vkwV"
      },
      "execution_count": null,
      "outputs": []
    },
    {
      "cell_type": "code",
      "source": [
        "# Write a code to remove the key \"age\" from the dictionary {'name': 'Bob', 'age': 22, 'city': 'New York'}\n",
        "person = {'name': 'Bob', 'age': 22, 'city': 'New York'}\n",
        "person.pop('age')\n",
        "print(\"Updated dictionary:\", person)"
      ],
      "metadata": {
        "id": "Yjlpg4Mkv1Kj"
      },
      "execution_count": null,
      "outputs": []
    },
    {
      "cell_type": "code",
      "source": [
        "#  Write a code to check if the key \"city\" exists in the dictionary {'name': 'Alice', 'city': 'Paris'}\n",
        "person = {'name': 'Alice', 'city': 'Paris'}\n",
        "if 'city' in person:\n",
        "    print(\"Key 'city' exists in the dictionary\")\n",
        "else:\n",
        "    print(\"Key 'city' does NOT exist in the dictionary\")"
      ],
      "metadata": {
        "id": "L9_8-jRav8d4"
      },
      "execution_count": null,
      "outputs": []
    },
    {
      "cell_type": "code",
      "source": [
        "# Write a code to create a list, a tuple, and a dictionary, and print them all\n",
        "my_list = [1, 2, 3]\n",
        "my_tuple = (4, 5, 6)\n",
        "my_dict = {\"name\": \"Alice\", \"age\": 25}\n",
        "print(\"List:\", my_list)\n",
        "print(\"Tuple:\", my_tuple)\n",
        "print(\"Dictionary:\", my_dict)"
      ],
      "metadata": {
        "id": "f6bzsuzzwDmx"
      },
      "execution_count": null,
      "outputs": []
    },
    {
      "cell_type": "code",
      "source": [
        "# Write a code to create a list of 5 random numbers between 1 and 100, sort it in ascending order, and print the result.(replaced)\n",
        "import random\n",
        "random_numbers = [random.randint(1, 100) for _ in range(5)]\n",
        "random_numbers.sort()\n",
        "print(\"Sorted list of random numbers:\", random_numbers)"
      ],
      "metadata": {
        "id": "BPJkZRhXwja0"
      },
      "execution_count": null,
      "outputs": []
    },
    {
      "cell_type": "code",
      "source": [
        "# Write a code to create a list with strings and print the element at the third index\n",
        "\n",
        "fruits = [\"apple\", \"banana\", \"cherry\", \"date\", \"elderberry\"]\n",
        "element = fruits[3]\n",
        "print(\"Element at third index:\", element)"
      ],
      "metadata": {
        "id": "ICw16rSCwyFa"
      },
      "execution_count": null,
      "outputs": []
    },
    {
      "cell_type": "code",
      "source": [
        "#  Write a code to combine two dictionaries into one and print the result\n",
        "dict1 = {\"name\": \"Alice\", \"age\": 25}\n",
        "dict2 = {\"city\": \"Paris\", \"country\": \"France\"}\n",
        "combined_dict = dict1 | dict2\n",
        "print(\"Combined dictionary:\", combined_dict)"
      ],
      "metadata": {
        "id": "XqB2xZHYw5g_"
      },
      "execution_count": null,
      "outputs": []
    },
    {
      "cell_type": "code",
      "source": [
        "# Write a code to convert a list of strings into a set\n",
        "fruits_list = [\"apple\", \"banana\", \"cherry\", \"apple\", \"banana\"]\n",
        "fruits_set = set(fruits_list)\n",
        "print(\"Set of fruits:\", fruits_set)"
      ],
      "metadata": {
        "id": "jhot2NrPxCCg"
      },
      "execution_count": null,
      "outputs": []
    },
    {
      "cell_type": "markdown",
      "source": [],
      "metadata": {
        "id": "tb8ilPnZqmUT"
      }
    }
  ]
}