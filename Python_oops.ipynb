{
  "nbformat": 4,
  "nbformat_minor": 0,
  "metadata": {
    "colab": {
      "provenance": []
    },
    "kernelspec": {
      "name": "python3",
      "display_name": "Python 3"
    },
    "language_info": {
      "name": "python"
    }
  },
  "cells": [
    {
      "cell_type": "markdown",
      "source": [
        "1.What is Object-Oriented Programming (OOP)+\n",
        "\n",
        "Object-Oriented Programming (OOP) is a programming paradigm that organizes code into objects, which combine data (attributes) and behavior (methods) into a single unit."
      ],
      "metadata": {
        "id": "5_JPXqEKPmc9"
      }
    },
    {
      "cell_type": "markdown",
      "source": [
        "2. What is a class in OOP?\n",
        "\n",
        "A class in OOP is a blueprint or template for creating objects.\n",
        "It defines the attributes (data/properties) and methods (functions/behaviors) that the objects created from it will have."
      ],
      "metadata": {
        "id": "GzyyZ2_FP_GX"
      }
    },
    {
      "cell_type": "markdown",
      "source": [
        "3. What is an object in OOP?\n",
        "\n",
        "An object in OOP is an instance of a class. It represents a specific entity created using the class blueprint, with its own data (attribute values) and the ability to use the methods"
      ],
      "metadata": {
        "id": "6GQHZPOKQH1z"
      }
    },
    {
      "cell_type": "markdown",
      "source": [
        "4. What is the difference between abstraction and encapsulation?\n",
        "\n",
        "Abstraction: Hides implementation details and shows only essential features. Focuses on what an object does.\n",
        "\n",
        "Encapsulation: Hides internal data and restricts direct access using getters/setters. Focuses on how the object’s data is protected."
      ],
      "metadata": {
        "id": "CaXY14LkQWvd"
      }
    },
    {
      "cell_type": "markdown",
      "source": [
        "5. What are dunder methods in Python?\n",
        "\n",
        "Dunder methods (short for “double underscore” methods) in Python are special built-in methods that have double underscores before and after their names, like __init__, __str__, __add__.\n",
        "\n",
        "They allow you to define or customize the behavior of Python objects for built-in operations (e.g., object creation, printing, arithmetic)."
      ],
      "metadata": {
        "id": "UZOl5Oq4QmGL"
      }
    },
    {
      "cell_type": "markdown",
      "source": [
        "6. Explain the concept of inheritance in OOP?\n",
        "\n",
        "Inheritance in OOP is a mechanism where a class (child/subclass) can inherit properties and methods from another class (parent/superclass).\n",
        "\n",
        "Purpose: Reuse code, create a hierarchy, and enable polymorphism."
      ],
      "metadata": {
        "id": "yHgfi3NoQ3dt"
      }
    },
    {
      "cell_type": "markdown",
      "source": [
        "7. What is polymorphism in OOP?\n",
        "\n",
        "Polymorphism in OOP is the ability of an object to take multiple forms or behave differently based on the context.\n",
        "\n",
        "Purpose: Allows the same method or operator to work with different types of objects.\n",
        "\n",
        "Types in Python:\n",
        "\n",
        "Compile-time (method overloading) – Python doesn’t support by default.\n",
        "\n",
        "Run-time (method overriding) – Supported.\n",
        "\n",
        "Example (method overriding):"
      ],
      "metadata": {
        "id": "oOXCFV54RDpS"
      }
    },
    {
      "cell_type": "markdown",
      "source": [
        "8. How is encapsulation achieved in Python?\n",
        "\n",
        "Encapsulation in Python is achieved by restricting access to an object’s data using private or protected variables and providing getter and setter methods.\n",
        "\n",
        "Protected: _variable – intended for internal use.\n",
        "\n",
        "Private: __variable – name-mangled to prevent direct access."
      ],
      "metadata": {
        "id": "aEezMN20RQ_P"
      }
    },
    {
      "cell_type": "markdown",
      "source": [
        "9.  What is a constructor in Python?\n",
        "\n",
        "A constructor in Python is a special method used to initialize a new object when it is created.\n",
        "\n",
        "In Python, the constructor method is __init__()."
      ],
      "metadata": {
        "id": "Q-9c83ifRdT0"
      }
    },
    {
      "cell_type": "markdown",
      "source": [
        "10. What are class and static methods in Python?\n",
        "\n",
        "Class methods and static methods are special methods in Python used inside classes:\n",
        "\n",
        "***Class Method (@classmethod)***\n",
        "\n",
        "Takes the class as the first argument (cls) instead of the instance.\n",
        "\n",
        "Can access or modify class-level data.\n",
        "\n",
        "\n",
        "**Static Method (@staticmethod)**\n",
        "\n",
        "Does not take self or cls.\n",
        "\n",
        "Cannot access instance or class data directly.\n",
        "\n",
        "Used as a utility function inside a class."
      ],
      "metadata": {
        "id": "vsAAi0IjRkOc"
      }
    },
    {
      "cell_type": "markdown",
      "source": [
        "11.  What is method overloading in Python?\n",
        "\n",
        "Method overloading is the ability to define multiple methods with the same name but different parameters in a class.\n",
        "\n",
        "In Python: True method overloading is not supported by default.\n",
        "\n",
        "Can be simulated using default arguments or *args/**kwargs."
      ],
      "metadata": {
        "id": "jUhmlEw4R8mT"
      }
    },
    {
      "cell_type": "markdown",
      "source": [
        "12. What is method overriding in OOP?\n",
        "\n",
        "Method overriding in OOP occurs when a child class provides its own version of a method that is already defined in the parent class.\n",
        "\n",
        "Purpose: Allows a child class to change or extend the behavior of inherited methods."
      ],
      "metadata": {
        "id": "C9g0gtOISEa6"
      }
    },
    {
      "cell_type": "markdown",
      "source": [
        "13. What is a property decorator in Python?\n",
        "\n",
        "A property decorator (@property) in Python is used to define a method that behaves like an attribute.\n",
        "\n",
        "Allows controlled access to private variables without explicitly calling getter/setter methods."
      ],
      "metadata": {
        "id": "VVwCjivBSQs9"
      }
    },
    {
      "cell_type": "markdown",
      "source": [
        "14. Why is polymorphism important in OOP?\n",
        "\n",
        "Polymorphism is important in OOP because it allows different objects to be treated through a common interface, enabling flexible, reusable, and maintainable code.\n",
        "\n",
        "Supports code generalization and runtime method overriding.\n",
        "\n",
        "Makes programs extensible without changing existing code."
      ],
      "metadata": {
        "id": "azULBLaOSbyA"
      }
    },
    {
      "cell_type": "markdown",
      "source": [
        "15. What is an abstract class in Python?\n",
        "\n",
        "An abstract class in Python is a class that cannot be instantiated and is meant to provide a blueprint for other classes.\n",
        "\n",
        "It can contain abstract methods (methods without implementation) that must be implemented by subclasses.\n",
        "\n",
        "Implemented using the abc module."
      ],
      "metadata": {
        "id": "fGMLV9IPSl17"
      }
    },
    {
      "cell_type": "markdown",
      "source": [
        "16. What are the advantages of OOP?\n",
        "\n",
        "Advantages of OOP:\n",
        "\n",
        "Code Reusability: Use inheritance to reuse existing code.\n",
        "\n",
        "Modularity: Code is organized into classes and objects.\n",
        "\n",
        "Encapsulation: Protects data and restricts access.\n",
        "\n",
        "Abstraction: Hides complexity and shows only necessary details.\n",
        "\n",
        "Polymorphism: Same interface can work with different object types.\n",
        "\n",
        "Maintainability: Easier to update and manage large programs."
      ],
      "metadata": {
        "id": "3UQ3sEBNSywq"
      }
    },
    {
      "cell_type": "markdown",
      "source": [
        "17. What is the difference between a class variable and an instance variable?\n",
        "\n",
        "Class variable: Shared by all instances of a class; belongs to the class.\n",
        "\n",
        "Instance variable: Unique to each object; belongs to the instance."
      ],
      "metadata": {
        "id": "iGrwV8I7TGSK"
      }
    },
    {
      "cell_type": "markdown",
      "source": [
        "18. What is multiple inheritance in Python?\n",
        "\n",
        "Multiple inheritance in Python is when a class inherits from more than one parent class.\n",
        "\n",
        "Allows a child class to reuse features from multiple classes.\n",
        "\n",
        "Syntax:"
      ],
      "metadata": {
        "id": "nprZkuFiTU66"
      }
    },
    {
      "cell_type": "markdown",
      "source": [
        "19.  Explain the purpose of ‘’__str__’ and ‘__repr__’ ‘ methods in Python?\n",
        "\n",
        "__str__: Returns a readable, user-friendly string representation of an object (used by print()).\n",
        "\n",
        "__repr__: Returns an unambiguous, developer-friendly string representation of an object (used in console or debugging)."
      ],
      "metadata": {
        "id": "SvJJ3D8BTcyN"
      }
    },
    {
      "cell_type": "markdown",
      "source": [
        "20. What is the significance of the ‘super()’ function in Python?\n",
        "\n",
        "The super() function in Python is used to call methods from a parent class in a child class.\n",
        "\n",
        "Commonly used to access or extend parent class behavior, especially in constructors."
      ],
      "metadata": {
        "id": "z002_wGVTmdx"
      }
    },
    {
      "cell_type": "markdown",
      "source": [
        "21. What is the significance of the __del__ method in Python?\n",
        "\n",
        "The __del__ method in Python is a destructor that is called when an object is about to be destroyed or garbage-collected.\n",
        "\n",
        "Used to release resources or perform cleanup before the object is removed."
      ],
      "metadata": {
        "id": "v4pD0HhETxT8"
      }
    },
    {
      "cell_type": "markdown",
      "source": [
        "22. What is the difference between @staticmethod and @classmethod in Python?\n",
        "\n",
        "@staticmethod defines a method that does not access the class or instance; it’s a utility function inside a class.\n",
        "\n",
        "@classmethod defines a method that takes the class (cls) as the first parameter and can access or modify class-level data."
      ],
      "metadata": {
        "id": "QDihha_DURMS"
      }
    },
    {
      "cell_type": "markdown",
      "source": [
        "23. How does polymorphism work in Python with inheritance?\n",
        "\n",
        "In Python, polymorphism with inheritance allows a child class to override a parent class method, so the same method call behaves differently depending on the object type."
      ],
      "metadata": {
        "id": "o5rGtz_oUWq6"
      }
    },
    {
      "cell_type": "markdown",
      "source": [
        "24. What is method chaining in Python OOP?\n",
        "\n",
        "Method chaining in Python OOP is when multiple methods are called sequentially on the same object in a single statement.\n",
        "\n",
        "Achieved by having methods return self."
      ],
      "metadata": {
        "id": "vBAQDstOUfE9"
      }
    },
    {
      "cell_type": "markdown",
      "source": [
        "25. What is the purpose of the __call__ method in Python?\n",
        "\n",
        "The __call__ method in Python allows an object to be called like a function.\n",
        "\n",
        "When defined, you can use obj() syntax to execute custom behavior."
      ],
      "metadata": {
        "id": "iO-spsIFUrGY"
      }
    },
    {
      "cell_type": "code",
      "source": [
        "''' Create a parent class Animal with a method speak() that prints a generic message. Create a child class Dog\n",
        "that overrides the speak() method to print \"Bark!\".'''\n",
        "class Animal:\n",
        "    def speak(self):\n",
        "        print(\"This animal makes a sound\")\n",
        "class Dog(Animal):\n",
        "    def speak(self):\n",
        "        print(\"Bark!\")\n",
        "a = Animal()\n",
        "a.speak()\n",
        "\n",
        "d = Dog()\n",
        "d.speak()\n"
      ],
      "metadata": {
        "colab": {
          "base_uri": "https://localhost:8080/"
        },
        "id": "t7gUmM9GU0ao",
        "outputId": "a3c978b6-e158-4de9-9955-2db2edaa2478"
      },
      "execution_count": 1,
      "outputs": [
        {
          "output_type": "stream",
          "name": "stdout",
          "text": [
            "This animal makes a sound\n",
            "Bark!\n"
          ]
        }
      ]
    },
    {
      "cell_type": "code",
      "source": [
        "'''Write a program to create an abstract class Shape with a method area(). Derive classes Circle and Rectangle\n",
        "from it and implement the area() method in both.'''\n",
        "from abc import ABC, abstractmethod\n",
        "import math\n",
        "class Shape(ABC):\n",
        "    @abstractmethod\n",
        "    def area(self):\n",
        "        pass\n",
        "class Circle(Shape):\n",
        "    def __init__(self, radius):\n",
        "        self.radius = radius\n",
        "\n",
        "    def area(self):\n",
        "        return math.pi * self.radius ** 2\n",
        "class Rectangle(Shape):\n",
        "    def __init__(self, length, width):\n",
        "        self.length = length\n",
        "        self.width = width\n",
        "\n",
        "    def area(self):\n",
        "        return self.length * self.width\n",
        "c = Circle(5)\n",
        "print(\"Circle area:\", c.area())\n",
        "\n",
        "r = Rectangle(4, 6)\n",
        "print(\"Rectangle area:\", r.area())\n"
      ],
      "metadata": {
        "colab": {
          "base_uri": "https://localhost:8080/"
        },
        "id": "Pn3dI6mOVCST",
        "outputId": "f9e3dc65-de21-4ed2-e46a-36346c194a21"
      },
      "execution_count": 2,
      "outputs": [
        {
          "output_type": "stream",
          "name": "stdout",
          "text": [
            "Circle area: 78.53981633974483\n",
            "Rectangle area: 24\n"
          ]
        }
      ]
    },
    {
      "cell_type": "code",
      "source": [
        "''' Implement a multi-level inheritance scenario where a class Vehicle has an attribute type. Derive a class Car\n",
        "and further derive a class ElectricCar that adds a battery attribute.'''\n",
        "\n",
        "class Vehicle:\n",
        "    def __init__(self, vehicle_type):\n",
        "        self.type = vehicle_type\n",
        "class Car(Vehicle):\n",
        "    def __init__(self, vehicle_type, brand):\n",
        "        super().__init__(vehicle_type)\n",
        "        self.brand = brand\n",
        "class ElectricCar(Car):\n",
        "    def __init__(self, vehicle_type, brand, battery):\n",
        "        super().__init__(vehicle_type, brand)\n",
        "        self.battery = battery\n",
        "\n",
        "    def display_info(self):\n",
        "        print(f\"Type: {self.type}, Brand: {self.brand}, Battery: {self.battery} kWh\")\n",
        "ecar = ElectricCar(\"Car\", \"Tesla\", 100)\n",
        "ecar.display_info()"
      ],
      "metadata": {
        "colab": {
          "base_uri": "https://localhost:8080/"
        },
        "id": "AsKK0xpwVX-j",
        "outputId": "f43a4039-0309-4b99-dbde-6088a055ad70"
      },
      "execution_count": 3,
      "outputs": [
        {
          "output_type": "stream",
          "name": "stdout",
          "text": [
            "Type: Car, Brand: Tesla, Battery: 100 kWh\n"
          ]
        }
      ]
    },
    {
      "cell_type": "code",
      "source": [
        "'''Demonstrate polymorphism by creating a base class Bird with a method fly(). Create two derived classes\n",
        "Sparrow and Penguin that override the fly() method.'''\n",
        "class Bird:\n",
        "    def fly(self):\n",
        "        print(\"This bird can fly\")\n",
        "class Sparrow(Bird):\n",
        "    def fly(self):\n",
        "        print(\"Sparrow flies high\")\n",
        "class Penguin(Bird):\n",
        "    def fly(self):\n",
        "        print(\"Penguins cannot fly\")\n",
        "birds = [Sparrow(), Penguin()]\n",
        "\n",
        "for bird in birds:\n",
        "    bird.fly()"
      ],
      "metadata": {
        "colab": {
          "base_uri": "https://localhost:8080/"
        },
        "id": "AdmoFmkmVkHE",
        "outputId": "bb266d19-d9f1-4b8c-9fac-889aa24bd7d8"
      },
      "execution_count": 4,
      "outputs": [
        {
          "output_type": "stream",
          "name": "stdout",
          "text": [
            "Sparrow flies high\n",
            "Penguins cannot fly\n"
          ]
        }
      ]
    },
    {
      "cell_type": "code",
      "source": [
        "''' Write a program to demonstrate encapsulation by creating a class BankAccount with private attributes\n",
        "balance and methods to deposit, withdraw, and check balance.'''\n",
        "class BankAccount:\n",
        "    def __init__(self, initial_balance):\n",
        "        self.__balance = initial_balance\n",
        "    def deposit(self, amount):\n",
        "        if amount > 0:\n",
        "            self.__balance += amount\n",
        "            print(f\"Deposited: {amount}\")\n",
        "        else:\n",
        "            print(\"Deposit amount must be positive\")\n",
        "    def withdraw(self, amount):\n",
        "        if 0 < amount <= self.__balance:\n",
        "            self.__balance -= amount\n",
        "            print(f\"Withdrawn: {amount}\")\n",
        "        else:\n",
        "            print(\"Insufficient balance or invalid amount\")\n",
        "    def get_balance(self):\n",
        "        return self.__balance\n",
        "account = BankAccount(1000)\n",
        "account.deposit(500)\n",
        "account.withdraw(200)\n",
        "print(\"Balance:\", account.get_balance())\n"
      ],
      "metadata": {
        "colab": {
          "base_uri": "https://localhost:8080/"
        },
        "id": "binPncMXV328",
        "outputId": "145f0478-a13a-4e39-ce51-a4f4ab4c7066"
      },
      "execution_count": 5,
      "outputs": [
        {
          "output_type": "stream",
          "name": "stdout",
          "text": [
            "Deposited: 500\n",
            "Withdrawn: 200\n",
            "Balance: 1300\n"
          ]
        }
      ]
    },
    {
      "cell_type": "code",
      "source": [
        "'''Demonstrate runtime polymorphism using a method play() in a base class Instrument. Derive classes Guitar\n",
        "and Piano that implement their own version of play().'''\n",
        "\n",
        "class Instrument:\n",
        "    def play(self):\n",
        "        print(\"Playing an instrument\")\n",
        "class Guitar(Instrument):\n",
        "    def play(self):\n",
        "        print(\"Strumming the guitar\")\n",
        "class Piano(Instrument):\n",
        "    def play(self):\n",
        "        print(\"Playing the piano keys\")\n",
        "instruments = [Guitar(), Piano()]\n",
        "\n",
        "for instrument in instruments:\n",
        "    instrument.play()"
      ],
      "metadata": {
        "colab": {
          "base_uri": "https://localhost:8080/"
        },
        "id": "8XZGNO1hWL0R",
        "outputId": "786d19ae-5183-49e2-a7ca-54124622927b"
      },
      "execution_count": 6,
      "outputs": [
        {
          "output_type": "stream",
          "name": "stdout",
          "text": [
            "Strumming the guitar\n",
            "Playing the piano keys\n"
          ]
        }
      ]
    },
    {
      "cell_type": "code",
      "source": [
        "''' Create a class MathOperations with a class method add_numbers() to add two numbers and a static\n",
        "method subtract_numbers() to subtract two numbers.'''\n",
        "class MathOperations:\n",
        "    @classmethod\n",
        "    def add_numbers(cls, a, b):\n",
        "        return a + b\n",
        "    @staticmethod\n",
        "    def subtract_numbers(a, b):\n",
        "        return a - b\n",
        "print(\"Addition (class method):\", MathOperations.add_numbers(10, 5))       # Output: 15\n",
        "print(\"Subtraction (static method):\", MathOperations.subtract_numbers(10, 5))\n"
      ],
      "metadata": {
        "colab": {
          "base_uri": "https://localhost:8080/"
        },
        "id": "q2aIoJW1WXTO",
        "outputId": "ec815c25-c6af-4344-b12e-d9e62c5c5d48"
      },
      "execution_count": 7,
      "outputs": [
        {
          "output_type": "stream",
          "name": "stdout",
          "text": [
            "Addition (class method): 15\n",
            "Subtraction (static method): 5\n"
          ]
        }
      ]
    },
    {
      "cell_type": "code",
      "source": [
        "''' Implement a class Person with a class method to count the total number of persons created.'''\n",
        "\n",
        "class Person:\n",
        "    total_persons = 0\n",
        "\n",
        "    def __init__(self, name):\n",
        "        self.name = name\n",
        "        Person.total_persons += 1\n",
        "    @classmethod\n",
        "    def get_total_persons(cls):\n",
        "        return cls.total_persons\n",
        "p1 = Person(\"Alice\")\n",
        "p2 = Person(\"Bob\")\n",
        "p3 = Person(\"Charlie\")\n",
        "\n",
        "print(\"Total persons created:\", Person.get_total_persons())"
      ],
      "metadata": {
        "colab": {
          "base_uri": "https://localhost:8080/"
        },
        "id": "T9o4WROJWhSg",
        "outputId": "b301ce27-09e7-4921-a6da-27ad2d92bb4c"
      },
      "execution_count": 9,
      "outputs": [
        {
          "output_type": "stream",
          "name": "stdout",
          "text": [
            "Total persons created: 3\n"
          ]
        }
      ]
    },
    {
      "cell_type": "code",
      "source": [
        "''' Write a class Fraction with attributes numerator and denominator. Override the str method to display the\n",
        "fraction as \"numerator/denominator\".'''\n",
        "\n",
        "class Fraction:\n",
        "    def __init__(self, numerator, denominator):\n",
        "        self.numerator = numerator\n",
        "        self.denominator = denominator\n",
        "\n",
        "    def __str__(self):\n",
        "        return f\"{self.numerator}/{self.denominator}\"\n",
        "f = Fraction(3, 4)\n",
        "print(f)"
      ],
      "metadata": {
        "colab": {
          "base_uri": "https://localhost:8080/"
        },
        "id": "ecFoW_7CW51Z",
        "outputId": "c9935e94-1384-4944-9914-8d0d96740c4c"
      },
      "execution_count": 10,
      "outputs": [
        {
          "output_type": "stream",
          "name": "stdout",
          "text": [
            "3/4\n"
          ]
        }
      ]
    },
    {
      "cell_type": "code",
      "source": [
        "''' Demonstrate operator overloading by creating a class Vector and overriding the add method to add two\n",
        "vectors.'''\n",
        "class Vector:\n",
        "    def __init__(self, x, y):\n",
        "        self.x = x\n",
        "        self.y = y\n",
        "    def __add__(self, other):\n",
        "        return Vector(self.x + other.x, self.y + other.y)\n",
        "\n",
        "    def __str__(self):\n",
        "        return f\"({self.x}, {self.y})\"\n",
        "v1 = Vector(2, 3)\n",
        "v2 = Vector(4, 5)\n",
        "v3 = v1 + v2\n",
        "print(v3)\n"
      ],
      "metadata": {
        "colab": {
          "base_uri": "https://localhost:8080/"
        },
        "id": "XUV0B1q3XDyr",
        "outputId": "30ea209c-7007-468c-e2f8-935fcece7724"
      },
      "execution_count": 11,
      "outputs": [
        {
          "output_type": "stream",
          "name": "stdout",
          "text": [
            "(6, 8)\n"
          ]
        }
      ]
    },
    {
      "cell_type": "code",
      "source": [
        "'''Create a class Person with attributes name and age. Add a method greet() that prints \"Hello, my name is\n",
        "{name} and I am {age} years old.\"'''\n",
        "\n",
        "class Person:\n",
        "    def __init__(self, name, age):\n",
        "        self.name = name\n",
        "        self.age = age\n",
        "\n",
        "    def greet(self):\n",
        "        print(f\"Hello, my name is {self.name} and I am {self.age} years old.\")\n",
        "p = Person(\"Alice\", 25)\n",
        "p.greet()"
      ],
      "metadata": {
        "colab": {
          "base_uri": "https://localhost:8080/"
        },
        "id": "GNVZo8A-XSPG",
        "outputId": "44ada988-38e0-4771-ba30-1e8a3407ebcb"
      },
      "execution_count": 12,
      "outputs": [
        {
          "output_type": "stream",
          "name": "stdout",
          "text": [
            "Hello, my name is Alice and I am 25 years old.\n"
          ]
        }
      ]
    },
    {
      "cell_type": "code",
      "source": [
        "''' Implement a class Student with attributes name and grades. Create a method average_grade() to compute\n",
        "the average of the grades'''\n",
        "\n",
        "class Student:\n",
        "    def __init__(self, name, grades):\n",
        "        self.name = name\n",
        "        self.grades = grades\n",
        "\n",
        "    def average_grade(self):\n",
        "        if self.grades:\n",
        "            return sum(self.grades) / len(self.grades)\n",
        "        else:\n",
        "            return 0\n",
        "s = Student(\"Alice\", [85, 90, 78])\n",
        "print(f\"{s.name}'s average grade: {s.average_grade()}\")"
      ],
      "metadata": {
        "colab": {
          "base_uri": "https://localhost:8080/"
        },
        "id": "oPqhH3eUXZv7",
        "outputId": "8834f550-8081-4fae-85af-a61e4ae72fc4"
      },
      "execution_count": 13,
      "outputs": [
        {
          "output_type": "stream",
          "name": "stdout",
          "text": [
            "Alice's average grade: 84.33333333333333\n"
          ]
        }
      ]
    },
    {
      "cell_type": "code",
      "source": [
        "''' Create a class Rectangle with methods set_dimensions() to set the dimensions and area() to calculate the\n",
        "area.'''\n",
        "class Rectangle:\n",
        "    def __init__(self):\n",
        "        self.length = 0\n",
        "        self.width = 0\n",
        "\n",
        "    def set_dimensions(self, length, width):\n",
        "        self.length = length\n",
        "        self.width = width\n",
        "\n",
        "    def area(self):\n",
        "        return self.length * self.width\n",
        "r = Rectangle()\n",
        "r.set_dimensions(5, 3)\n",
        "print(\"Area of rectangle:\", r.area())\n"
      ],
      "metadata": {
        "colab": {
          "base_uri": "https://localhost:8080/"
        },
        "id": "svDDSHoqXh2x",
        "outputId": "d2a7c5db-aabd-4b91-9b22-89d9fdb5090e"
      },
      "execution_count": 14,
      "outputs": [
        {
          "output_type": "stream",
          "name": "stdout",
          "text": [
            "Area of rectangle: 15\n"
          ]
        }
      ]
    },
    {
      "cell_type": "code",
      "source": [
        "'''Create a class Employee with a method calculate_salary() that computes the salary based on hours worked\n",
        "and hourly rate. Create a derived class Manager that adds a bonus to the salary.'''\n",
        "class Employee:\n",
        "    def __init__(self, name, hours_worked, hourly_rate):\n",
        "        self.name = name\n",
        "        self.hours_worked = hours_worked\n",
        "        self.hourly_rate = hourly_rate\n",
        "\n",
        "    def calculate_salary(self):\n",
        "        return self.hours_worked * self.hourly_rate\n",
        "class Manager(Employee):\n",
        "    def __init__(self, name, hours_worked, hourly_rate, bonus):\n",
        "        super().__init__(name, hours_worked, hourly_rate)\n",
        "        self.bonus = bonus\n",
        "\n",
        "    def calculate_salary(self):\n",
        "        base_salary = super().calculate_salary()\n",
        "        return base_salary + self.bonus\n",
        "e = Employee(\"Alice\", 40, 20)\n",
        "print(f\"{e.name}'s salary: {e.calculate_salary()}\")  # Output: Alice's salary: 800\n",
        "\n",
        "m = Manager(\"Bob\", 40, 25, 500)\n",
        "print(f\"{m.name}'s salary: {m.calculate_salary()}\")\n"
      ],
      "metadata": {
        "colab": {
          "base_uri": "https://localhost:8080/"
        },
        "id": "cOX8xELUXssG",
        "outputId": "a47428c7-c81b-4053-9d11-c00ed1d2d9ad"
      },
      "execution_count": 15,
      "outputs": [
        {
          "output_type": "stream",
          "name": "stdout",
          "text": [
            "Alice's salary: 800\n",
            "Bob's salary: 1500\n"
          ]
        }
      ]
    },
    {
      "cell_type": "code",
      "source": [
        "'''Create a class Product with attributes name, price, and quantity. Implement a method total_price() that\n",
        "calculates the total price of the product.'''\n",
        "\n",
        "class Product:\n",
        "    def __init__(self, name, price, quantity):\n",
        "        self.name = name\n",
        "        self.price = price\n",
        "        self.quantity = quantity\n",
        "\n",
        "    def total_price(self):\n",
        "        return self.price * self.quantity\n",
        "p = Product(\"Laptop\", 50000, 2)\n",
        "print(f\"Total price of {p.name}: {p.total_price()}\")"
      ],
      "metadata": {
        "colab": {
          "base_uri": "https://localhost:8080/"
        },
        "id": "FxXCHvR1X9rP",
        "outputId": "cb757c24-aa6c-4bdf-da50-396a4f25d401"
      },
      "execution_count": 16,
      "outputs": [
        {
          "output_type": "stream",
          "name": "stdout",
          "text": [
            "Total price of Laptop: 100000\n"
          ]
        }
      ]
    },
    {
      "cell_type": "code",
      "source": [
        "'''Create a class Animal with an abstract method sound(). Create two derived classes Cow and Sheep that\n",
        "implement the sound() method.'''\n",
        "from abc import ABC, abstractmethod\n",
        "class Animal(ABC):\n",
        "    @abstractmethod\n",
        "    def sound(self):\n",
        "        pass\n",
        "class Cow(Animal):\n",
        "    def sound(self):\n",
        "        print(\"Moo\")\n",
        "class Sheep(Animal):\n",
        "    def sound(self):\n",
        "        print(\"Baa\")\n",
        "animals = [Cow(), Sheep()]\n",
        "for animal in animals:\n",
        "    animal.sound()"
      ],
      "metadata": {
        "colab": {
          "base_uri": "https://localhost:8080/"
        },
        "id": "JgaYA3IBYNFd",
        "outputId": "ee1a22bc-aeb2-4f33-b009-9c00187be59a"
      },
      "execution_count": 17,
      "outputs": [
        {
          "output_type": "stream",
          "name": "stdout",
          "text": [
            "Moo\n",
            "Baa\n"
          ]
        }
      ]
    },
    {
      "cell_type": "code",
      "source": [
        " '''Create a class Book with attributes title, author, and year_published. Add a method get_book_info() that\n",
        "returns a formatted string with the book's details.'''\n",
        "class Book:\n",
        "    def __init__(self, title, author, year_published):\n",
        "        self.title = title\n",
        "        self.author = author\n",
        "        self.year_published = year_published\n",
        "\n",
        "    def get_book_info(self):\n",
        "        return f\"Title: {self.title}, Author: {self.author}, Year: {self.year_published}\"\n",
        "b = Book(\"1984\", \"George Orwell\", 1949)\n",
        "print(b.get_book_info())"
      ],
      "metadata": {
        "colab": {
          "base_uri": "https://localhost:8080/"
        },
        "id": "2FiiPBSeYZyo",
        "outputId": "511f1931-2ccc-466d-fba5-f99fbc5825ab"
      },
      "execution_count": 18,
      "outputs": [
        {
          "output_type": "stream",
          "name": "stdout",
          "text": [
            "Title: 1984, Author: George Orwell, Year: 1949\n"
          ]
        }
      ]
    },
    {
      "cell_type": "code",
      "source": [
        "'''Create a class House with attributes address and price. Create a derived class Mansion that adds an\n",
        "attribute number_of_rooms.'''\n",
        "class House:\n",
        "    def __init__(self, address, price):\n",
        "        self.address = address\n",
        "        self.price = price\n",
        "class Mansion(House):\n",
        "    def __init__(self, address, price, number_of_rooms):\n",
        "        super().__init__(address, price)\n",
        "        self.number_of_rooms = number_of_rooms\n",
        "\n",
        "    def get_info(self):\n",
        "        return f\"Address: {self.address}, Price: {self.price}, Rooms: {self.number_of_rooms}\"\n",
        "m = Mansion(\"123 Luxury St\", 5000000, 10)\n",
        "print(m.get_info())\n"
      ],
      "metadata": {
        "colab": {
          "base_uri": "https://localhost:8080/"
        },
        "id": "JiMRF1U6YmqL",
        "outputId": "faa89750-128a-4569-ae61-d89c444f28ce"
      },
      "execution_count": 19,
      "outputs": [
        {
          "output_type": "stream",
          "name": "stdout",
          "text": [
            "Address: 123 Luxury St, Price: 5000000, Rooms: 10\n"
          ]
        }
      ]
    }
  ]
}