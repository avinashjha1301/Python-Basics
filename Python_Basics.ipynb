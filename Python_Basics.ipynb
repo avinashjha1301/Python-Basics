{
  "nbformat": 4,
  "nbformat_minor": 0,
  "metadata": {
    "colab": {
      "provenance": []
    },
    "kernelspec": {
      "name": "python3",
      "display_name": "Python 3"
    },
    "language_info": {
      "name": "python"
    }
  },
  "cells": [
    {
      "cell_type": "markdown",
      "source": [
        "Bais of python\n",
        "\n",
        "1. What is Python, and why is it popular?\n",
        "\n",
        "Python is a high-level, interpreted programming language known for its simple, readable syntax that makes it easy to learn and use.\n",
        " Reasons for its popularity.\n",
        "\n",
        "\n",
        "*   Easy to Learn and Read – Simple syntax similar to English.\n",
        "\n",
        "\n",
        "*   Versatile and Multi-purpose – Used in web development, data science, machine learning, automation, and more.\n",
        "\n",
        "\n",
        "*   Large Libraries and Frameworks – Rich ecosystem like NumPy, Pandas, Django Flask, TensorFlow.\n",
        "\n",
        "\n",
        "\n",
        "*  Community Support – Huge community with plenty of tutorials, documentation, and forums.\n",
        "\n",
        "\n",
        "\n",
        "\n",
        "\n",
        "\n",
        "\n",
        "\n",
        "\n"
      ],
      "metadata": {
        "id": "DQRzbeQncmPl"
      }
    },
    {
      "cell_type": "markdown",
      "source": [
        "2. What is an interpreter in Python?\n",
        "\n",
        "In Python, an interpreter is a program that reads and executes Python code line by line, rather than compiling the entire code into machine language first.\n",
        "\n",
        "It translates Python code into machine-readable instructions at runtime.\n",
        "\n",
        "Helps in immediate execution and testing of code.\n",
        "\n",
        "Makes Python platform-independent, since the interpreter handles the underlying system differences."
      ],
      "metadata": {
        "id": "me5eahAwdnXg"
      }
    },
    {
      "cell_type": "markdown",
      "source": [
        "3. What are pre-defined keywords in Python?\n",
        "\n",
        "In Python, pre-defined keywords are reserved words that have a special meaning in the language. You cannot use them as variable names, function names, or identifiers because they are part of Python’s syntax."
      ],
      "metadata": {
        "id": "nJs_FGFaeCIL"
      }
    },
    {
      "cell_type": "markdown",
      "source": [
        "4. Can keywords be used as variable names?\n",
        "\n",
        "keywords cannot be used as variable names in Python.\n",
        "Reason:\n",
        "\n",
        "Keywords are reserved words that have a special meaning in Python’s syntax.\n",
        "\n",
        "Using them as variable names will cause a syntax error."
      ],
      "metadata": {
        "id": "iqTgCV1oeJxy"
      }
    },
    {
      "cell_type": "markdown",
      "source": [
        "5. What is mutability in Python?\n",
        "\n",
        "In Python, mutability refers to whether an object’s value can be changed after it is created."
      ],
      "metadata": {
        "id": "HCD1iEMMeZ9x"
      }
    },
    {
      "cell_type": "markdown",
      "source": [
        "6. Why are lists mutable, but tuples are immutable?\n",
        "\n",
        "Lists are mutable because they are designed to allow changes—elements can be added, removed, or modified.\n",
        "Tuples are immutable because they are fixed-size, making them faster, memory-efficient, and safe to use as keys in dictionaries."
      ],
      "metadata": {
        "id": "mCIL0WC7ebAZ"
      }
    },
    {
      "cell_type": "markdown",
      "source": [
        "7. What is the difference between “==” and “is” operators in Python?\n",
        "\n",
        "== checks if the values of two objects are equal.\n",
        "\n",
        "is checks if two objects refer to the exact same memory location (i.e., are the same object)"
      ],
      "metadata": {
        "id": "9JVISdspeycj"
      }
    },
    {
      "cell_type": "markdown",
      "source": [
        "8. What are logical operators in Python?\n",
        "\n",
        "Logical operators in Python are used to combine or invert boolean conditions. The main logical operators are:\n",
        "\n",
        "and → True if both conditions are True\n",
        "\n",
        "or → True if at least one condition is True\n",
        "\n",
        "not → Inverts the boolean value"
      ],
      "metadata": {
        "id": "3qCRJiRme9-L"
      }
    },
    {
      "cell_type": "markdown",
      "source": [
        "9. What is type casting in Python?\n",
        "\n",
        "Type casting in Python is the process of converting a value from one data type to another."
      ],
      "metadata": {
        "id": "krujivHOfJTr"
      }
    },
    {
      "cell_type": "markdown",
      "source": [
        "10. What is the difference between implicit and explicit type casting?\n",
        "\n",
        "Implicit type casting: Done automatically by Python (e.g., int → float).\n",
        "\n",
        "Explicit type casting: Done manually by the programmer using functions like int(), float(), str()."
      ],
      "metadata": {
        "id": "wWO8iDGQfR-f"
      }
    },
    {
      "cell_type": "markdown",
      "source": [
        "11. What is the purpose of conditional statements in Python ?\n",
        "\n",
        "Conditional statements in Python are used to execute code only if a certain condition is True, allowing programs to make decisions and control the flow."
      ],
      "metadata": {
        "id": "pUkZDD6cfdZh"
      }
    },
    {
      "cell_type": "markdown",
      "source": [
        "12. How does the elif statement work?\n",
        "\n",
        "The elif statement in Python is used to check multiple conditions after an if. It runs only if the previous if or elif conditions were False."
      ],
      "metadata": {
        "id": "lDvbCY9Mftag"
      }
    },
    {
      "cell_type": "markdown",
      "source": [
        "13. What is the difference between for and while loops?\n",
        "\n",
        "for loop: Repeats a fixed number of times over a sequence.\n",
        "\n",
        "while loop: Repeats until a condition becomes False."
      ],
      "metadata": {
        "id": "KN7sRDKhf0pA"
      }
    },
    {
      "cell_type": "markdown",
      "source": [
        "14. Describe a scenario where a while loop is more suitable than a for loop?\n",
        "\n",
        "A while loop is more suitable when the number of iterations is unknown and depends on a condition."
      ],
      "metadata": {
        "id": "jzUD2g3VgCgp"
      }
    },
    {
      "cell_type": "code",
      "source": [
        "# Write a Python program to print \"Hello, World!\"\n",
        "print(\"Hello, World!\")"
      ],
      "metadata": {
        "colab": {
          "base_uri": "https://localhost:8080/"
        },
        "id": "yOZ6rpiogTqi",
        "outputId": "97142329-3700-46e3-a24c-904231b21c92"
      },
      "execution_count": 1,
      "outputs": [
        {
          "output_type": "stream",
          "name": "stdout",
          "text": [
            "Hello, World!\n"
          ]
        }
      ]
    },
    {
      "cell_type": "code",
      "source": [
        "# Write a Python program that displays your name and age.\n",
        "name = \"Avinash\"\n",
        "age = 26\n",
        "\n",
        "print(\"Name:\", name)\n",
        "print(\"Age:\", age)"
      ],
      "metadata": {
        "colab": {
          "base_uri": "https://localhost:8080/"
        },
        "id": "XMh8RE6NgswU",
        "outputId": "1bfab984-3351-4d28-e47f-b1edfeb4c0e2"
      },
      "execution_count": 3,
      "outputs": [
        {
          "output_type": "stream",
          "name": "stdout",
          "text": [
            "Name: Avinash\n",
            "Age: 26\n"
          ]
        }
      ]
    },
    {
      "cell_type": "code",
      "source": [
        "# Write code to print all the pre-defined keywords in Python using the keyword library.\n",
        "import keyword\n",
        "\n",
        "print(\"Python keywords are:\")\n",
        "print(keyword.kwlist)"
      ],
      "metadata": {
        "colab": {
          "base_uri": "https://localhost:8080/"
        },
        "id": "XvhgD-X_g824",
        "outputId": "dbbedfab-3c9c-43b4-f4a2-c133fd504f14"
      },
      "execution_count": 4,
      "outputs": [
        {
          "output_type": "stream",
          "name": "stdout",
          "text": [
            "Python keywords are:\n",
            "['False', 'None', 'True', 'and', 'as', 'assert', 'async', 'await', 'break', 'class', 'continue', 'def', 'del', 'elif', 'else', 'except', 'finally', 'for', 'from', 'global', 'if', 'import', 'in', 'is', 'lambda', 'nonlocal', 'not', 'or', 'pass', 'raise', 'return', 'try', 'while', 'with', 'yield']\n"
          ]
        }
      ]
    },
    {
      "cell_type": "code",
      "source": [
        "# Write a program that checks if a given word is a Python keyword.\n",
        "import keyword\n",
        "\n",
        "word = input(\"Enter a word: \")\n",
        "\n",
        "if keyword.iskeyword(word):\n",
        "    print(f'\"{word}\" is a Python keyword.')\n",
        "else:\n",
        "    print(f'\"{word}\" is NOT a Python keyword.')"
      ],
      "metadata": {
        "colab": {
          "base_uri": "https://localhost:8080/"
        },
        "id": "3aKTNP-vhI8q",
        "outputId": "798ad2d0-1c21-4287-cb91-0b682bb2b2bf"
      },
      "execution_count": 5,
      "outputs": [
        {
          "output_type": "stream",
          "name": "stdout",
          "text": [
            "Enter a word: bad\n",
            "\"bad\" is NOT a Python keyword.\n"
          ]
        }
      ]
    },
    {
      "cell_type": "code",
      "source": [
        "# Create a list and tuple in Python, and demonstrate how attempting to change an element works differently  for each.\n",
        "my_list = [1, 2, 3]\n",
        "my_tuple = (1, 2, 3)\n",
        "\n",
        "my_list[0] = 10\n",
        "print(\"Updated list:\", my_list)\n",
        "\n",
        "try:\n",
        "    my_tuple[0] = 10\n",
        "except TypeError as e:\n",
        "    print(\"Error:\", e)"
      ],
      "metadata": {
        "colab": {
          "base_uri": "https://localhost:8080/"
        },
        "id": "215A3qllh6Hz",
        "outputId": "b5902420-a183-4f4f-c3ca-2973c75e86e6"
      },
      "execution_count": 6,
      "outputs": [
        {
          "output_type": "stream",
          "name": "stdout",
          "text": [
            "Updated list: [10, 2, 3]\n",
            "Error: 'tuple' object does not support item assignment\n"
          ]
        }
      ]
    },
    {
      "cell_type": "code",
      "source": [
        "# Write a function to demonstrate the behavior of mutable and immutable arguments.\n",
        "def modify_values(a, b):\n",
        "    a += 10\n",
        "    b.append(10)\n",
        "    print(\"Inside function:\")\n",
        "    print(\"a =\", a)\n",
        "    print(\"b =\", b)\n",
        "\n",
        "\n",
        "num = 5\n",
        "my_list = [1, 2, 3]\n",
        "\n",
        "modify_values(num, my_list)\n",
        "\n",
        "print(\"\\nOutside function:\")\n",
        "print(\"num =\", num)\n",
        "print(\"my_list =\", my_list)"
      ],
      "metadata": {
        "colab": {
          "base_uri": "https://localhost:8080/"
        },
        "id": "88dCkTqRiPFb",
        "outputId": "be74977e-9e8a-4de5-bf46-3a86dc688c82"
      },
      "execution_count": 7,
      "outputs": [
        {
          "output_type": "stream",
          "name": "stdout",
          "text": [
            "Inside function:\n",
            "a = 15\n",
            "b = [1, 2, 3, 10]\n",
            "\n",
            "Outside function:\n",
            "num = 5\n",
            "my_list = [1, 2, 3, 10]\n"
          ]
        }
      ]
    },
    {
      "cell_type": "code",
      "source": [
        "#  Write a program that performs basic arithmetic operations on two user-input numbers.\n",
        "num1 = float(input(\"Enter the first number: \"))\n",
        "num2 = float(input(\"Enter the second number: \"))\n",
        "\n",
        "addition = num1 + num2\n",
        "subtraction = num1 - num2\n",
        "multiplication = num1 * num2\n",
        "division = num1 / num2 if num2 != 0 else \"Undefined (division by zero)\"\n",
        "modulus = num1 % num2 if num2 != 0 else \"Undefined (modulus by zero)\"\n",
        "\n",
        "print(f\"Addition: {addition}\")\n",
        "print(f\"Subtraction: {subtraction}\")\n",
        "print(f\"Multiplication: {multiplication}\")\n",
        "print(f\"Division: {division}\")\n",
        "print(f\"Modulus: {modulus}\")"
      ],
      "metadata": {
        "colab": {
          "base_uri": "https://localhost:8080/"
        },
        "id": "BOXzSLlaihWx",
        "outputId": "28adc322-bfd5-4f28-9ba6-b7fb27089cab"
      },
      "execution_count": 8,
      "outputs": [
        {
          "output_type": "stream",
          "name": "stdout",
          "text": [
            "Enter the first number: 45\n",
            "Enter the second number: 66\n",
            "Addition: 111.0\n",
            "Subtraction: -21.0\n",
            "Multiplication: 2970.0\n",
            "Division: 0.6818181818181818\n",
            "Modulus: 45.0\n"
          ]
        }
      ]
    },
    {
      "cell_type": "code",
      "source": [
        "#  Write a program to demonstrate the use of logical operators.\n",
        "\n",
        "a = int(input(\"Enter first number: \"))\n",
        "b = int(input(\"Enter second number: \"))\n",
        "print(\"\\nLogical Operations:\")\n",
        "if a > 0 and b > 0:\n",
        "    print(\"Both numbers are positive (AND)\")\n",
        "if a > 0 or b > 0:\n",
        "    print(\"At least one number is positive (OR)\")\n",
        "if not a > 0:\n",
        "    print(\"First number is not positive (NOT)\")"
      ],
      "metadata": {
        "colab": {
          "base_uri": "https://localhost:8080/"
        },
        "id": "21mcaBERivjk",
        "outputId": "5ceb792e-4bf3-486f-f049-33ea9ae7e10f"
      },
      "execution_count": 10,
      "outputs": [
        {
          "output_type": "stream",
          "name": "stdout",
          "text": [
            "Enter first number: 5\n",
            "Enter second number: -2\n",
            "\n",
            "Logical Operations:\n",
            "At least one number is positive (OR)\n"
          ]
        }
      ]
    },
    {
      "cell_type": "code",
      "source": [
        "#  Write a Python program to convert user input from string to integer, float, and boolean types.\n",
        "user_input = input(\"Enter a value: \")\n",
        "try:\n",
        "    int_value = int(user_input)\n",
        "    print(\"Integer:\", int_value)\n",
        "except ValueError:\n",
        "    print(\"Cannot convert to integer\")\n",
        "try:\n",
        "    float_value = float(user_input)\n",
        "    print(\"Float:\", float_value)\n",
        "except ValueError:\n",
        "    print(\"Cannot convert to float\")\n",
        "bool_value = bool(user_input)\n",
        "print(\"Boolean:\", bool_value)"
      ],
      "metadata": {
        "colab": {
          "base_uri": "https://localhost:8080/"
        },
        "id": "3GyDl-TRjQtw",
        "outputId": "45061ca4-f282-4ebb-f6f0-c432ba640245"
      },
      "execution_count": 11,
      "outputs": [
        {
          "output_type": "stream",
          "name": "stdout",
          "text": [
            "Enter a value: 10\n",
            "Integer: 10\n",
            "Float: 10.0\n",
            "Boolean: True\n"
          ]
        }
      ]
    },
    {
      "cell_type": "code",
      "source": [
        " # Write code to demonstrate type casting with list elements.\n",
        "\n",
        " str_list = [\"1\", \"2\", \"3\", \"4\"]\n",
        "int_list = [int(x) for x in str_list]\n",
        "print(\"Original list (strings):\", str_list)\n",
        "print(\"Converted list (integers):\", int_list)\n",
        "sum_of_elements = sum(int_list)\n",
        "print(\"Sum of elements:\", sum_of_elements)"
      ],
      "metadata": {
        "colab": {
          "base_uri": "https://localhost:8080/"
        },
        "id": "zl7ykS3Ejh1A",
        "outputId": "bc86cab8-c33d-4dff-b0d8-648348925305"
      },
      "execution_count": 12,
      "outputs": [
        {
          "output_type": "stream",
          "name": "stdout",
          "text": [
            "Original list (strings): ['1', '2', '3', '4']\n",
            "Converted list (integers): [1, 2, 3, 4]\n",
            "Sum of elements: 10\n"
          ]
        }
      ]
    },
    {
      "cell_type": "code",
      "source": [
        "# Write a program that checks if a number is positive, negative, or zero.\n",
        "\n",
        "num = float(input(\"Enter a number: \"))\n",
        "if num > 0:\n",
        "    print(\"The number is Positive\")\n",
        "elif num < 0:\n",
        "    print(\"The number is Negative\")\n",
        "else:\n",
        "    print(\"The number is Zero\")"
      ],
      "metadata": {
        "colab": {
          "base_uri": "https://localhost:8080/"
        },
        "id": "_RllT0G0kSIb",
        "outputId": "4d8b0ab0-8f0a-4167-fa5e-4c08f3c8331f"
      },
      "execution_count": 13,
      "outputs": [
        {
          "output_type": "stream",
          "name": "stdout",
          "text": [
            "Enter a number: 56\n",
            "The number is Positive\n"
          ]
        }
      ]
    },
    {
      "cell_type": "code",
      "source": [
        "#  Write a for loop to print numbers from 1 to 10.\n",
        "for i in range(1, 11):\n",
        "    print(i)"
      ],
      "metadata": {
        "id": "KuH4xgqMkaru"
      },
      "execution_count": null,
      "outputs": []
    },
    {
      "cell_type": "code",
      "source": [
        "# Write a Python program to find the sum of all even numbers between 1 and 50.\n",
        "\n",
        "even_sum = 0\n",
        "for i in range(1, 51):\n",
        "    if i % 2 == 0:\n",
        "        even_sum += i\n",
        "\n",
        "print(\"Sum of all even numbers from 1 to 50 is:\", even_sum)"
      ],
      "metadata": {
        "id": "fhqkh8A6kiOg"
      },
      "execution_count": null,
      "outputs": []
    },
    {
      "cell_type": "code",
      "source": [
        "# Write a program to reverse a string using a while loop.\n",
        "\n",
        "original_str = input(\"Enter a string: \")\n",
        "reversed_str = \"\"\n",
        "index = len(original_str) - 1\n",
        "while index >= 0:\n",
        "    reversed_str += original_str[index]\n",
        "    index -= 1\n",
        "\n",
        "print(\"Reversed string:\", reversed_str)"
      ],
      "metadata": {
        "colab": {
          "base_uri": "https://localhost:8080/"
        },
        "id": "OEMV07bdkvw5",
        "outputId": "b6a27911-bad5-4e0f-d0d1-5c548a694865"
      },
      "execution_count": 14,
      "outputs": [
        {
          "output_type": "stream",
          "name": "stdout",
          "text": [
            "Enter a string: 44\n",
            "Reversed string: 44\n"
          ]
        }
      ]
    },
    {
      "cell_type": "code",
      "source": [
        "#  Write a Python program to calculate the factorial of a number provided by the user using a while loop.\n",
        "\n",
        "num = int(input(\"Enter a number: \"))\n",
        "factorial = 1\n",
        "i = 1\n",
        "while i <= num:\n",
        "    factorial *= i\n",
        "    i += 1\n",
        "\n",
        "print(f\"Factorial of {num} is {factorial}\")"
      ],
      "metadata": {
        "id": "IQz0vg4Sk7_5",
        "outputId": "b80bac2e-ce30-4733-914d-7ef9499bf885",
        "colab": {
          "base_uri": "https://localhost:8080/"
        }
      },
      "execution_count": 15,
      "outputs": [
        {
          "output_type": "stream",
          "name": "stdout",
          "text": [
            "Enter a number: 23\n",
            "Factorial of 23 is 25852016738884976640000\n"
          ]
        }
      ]
    }
  ]
}